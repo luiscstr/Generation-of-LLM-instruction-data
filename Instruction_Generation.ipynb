{
 "cells": [
  {
   "cell_type": "markdown",
   "id": "80293e36-2c9c-4aba-9e2e-b1a0b2324d76",
   "metadata": {},
   "source": [
    "Implementing the \"hack\" described in the paper  \"Magpie: Alignment Data Synthesis from Scratch by Prompting Aligned LLMs with Nothing\" (https://arxiv.org/abs/2406.08464) to generate an instruction dataset with the format:\n",
    "\n",
    "{\"instruction\": What type of cloud is typically associated with thunderstorms?,<br>\n",
    "\"output\": The type of cloud typically associated with thunderstorms is cumulonimbus.}\n",
    "\n",
    "LLama 8B- Instruct model is used\n",
    "\n",
    "\n",
    "Evaluate: Quality of instructions, Difficulty of instructions, Instruction SImilarity"
   ]
  },
  {
   "cell_type": "code",
   "execution_count": 1,
   "id": "ca024fdb-8064-484d-9b91-c3141de8c7e6",
   "metadata": {},
   "outputs": [],
   "source": [
    "#importing libraries\n",
    "from tqdm import tqdm\n",
    "import json"
   ]
  },
  {
   "cell_type": "code",
   "execution_count": 2,
   "id": "0392844e-2f29-4acf-9623-fb9c87d1f769",
   "metadata": {},
   "outputs": [
    {
     "name": "stdout",
     "output_type": "stream",
     "text": [
      "Ollama running: True\n"
     ]
    }
   ],
   "source": [
    "#ollama run llama3\n",
    "#Verifying if Ollama 3 is running\n",
    "import psutil\n",
    " \n",
    "def check_if_running(process_name):\n",
    "    running = False\n",
    "    for proc in psutil.process_iter([\"name\"]):\n",
    "        if process_name in proc.info[\"name\"]:\n",
    "            running = True\n",
    "            break\n",
    "    return running\n",
    " \n",
    "ollama_running = check_if_running(\"ollama\")\n",
    " \n",
    "if not ollama_running:\n",
    "    raise RuntimeError(\"Ollama not running. Launch ollama before proceeding.\")\n",
    "print(\"Ollama running:\", check_if_running(\"ollama\"))"
   ]
  },
  {
   "cell_type": "code",
   "execution_count": 12,
   "id": "c08fb004-6982-4f70-9689-33660285e70c",
   "metadata": {},
   "outputs": [],
   "source": [
    "#Function to interact with Ollama via REST API\n",
    "\n",
    "import urllib.request\n",
    " \n",
    "def query_model(prompt, model=\"llama3\", url=\"http://localhost:11434/api/chat\",role=\"user\"):\n",
    "    data = {\n",
    "        \"model\": model,\n",
    "        \"seed\": 123,        \n",
    "        \"temperature\": 1.,\n",
    "        \"top_p\":1,\n",
    "        \"messages\": [\n",
    "            {\"role\": role, \"content\": prompt}\n",
    "        ]\n",
    "    }\n",
    " \n",
    "    payload = json.dumps(data).encode(\"utf-8\")\n",
    "    request = urllib.request.Request(url, data=payload, method=\"POST\")\n",
    "    request.add_header(\"Content-Type\", \"application/json\")\n",
    " \n",
    "    response_data = \"\"\n",
    "    with urllib.request.urlopen(request) as response:\n",
    "        while True:\n",
    "            line = response.readline().decode(\"utf-8\")\n",
    "            if not line:\n",
    "                break\n",
    "            response_json = json.loads(line)\n",
    "            response_data += response_json[\"message\"][\"content\"]\n",
    " \n",
    "    return response_data"
   ]
  },
  {
   "cell_type": "code",
   "execution_count": 13,
   "id": "c2b87368-ec2f-4dde-9a80-a5597ea70b1e",
   "metadata": {},
   "outputs": [
    {
     "name": "stdout",
     "output_type": "stream",
     "text": [
      "Llamas are herbivores, which means they primarily eat plants and plant-based foods. Their diet typically consists of:\n",
      "\n",
      "1. Grasses: Llamas love to graze on various types of grasses, including tall grasses, bunchgrasses, and wheat.\n",
      "2. Leaves: They enjoy munching on leaves from trees, shrubs, and bushes, like willow, cottonwood, and alder.\n",
      "3. Plants: Llamas eat a variety of plants, such as clover, alfalfa, and other legumes.\n",
      "4. Fruits and veggies: In the wild or in captivity, llamas might also eat fruits and vegetables like apples, carrots, and sweet potatoes.\n",
      "5. Hay: A staple in many llama diets is hay, which can be timothy grass, alfalfa, or a combination of both.\n",
      "\n",
      "In terms of specific nutrients, llamas need:\n",
      "\n",
      "* High-quality fiber (like hay) for digestive health\n",
      "* Adequate protein from plants like legumes and grains\n",
      "* Minerals like calcium, phosphorus, and potassium\n",
      "\n",
      "In the wild, llamas roam in mountainous regions at high elevations, where they feed on whatever is available. In captivity, their diet is often formulated to mimic their natural grazing habits, with a focus on providing a balanced mix of nutrients.\n",
      "\n",
      "It's worth noting that llamas have a unique digestive system and can eat some plants that are toxic to other animals, like cedar and juniper leaves. However, it's still important to provide them with a varied and nutritious diet to ensure their overall health and well-being.\n"
     ]
    }
   ],
   "source": [
    "result = query_model(\"What do Llamas eat?\")\n",
    "print(result)"
   ]
  },
  {
   "cell_type": "code",
   "execution_count": 15,
   "id": "0644b832-636e-4bf8-90a0-f7d3a46e94de",
   "metadata": {},
   "outputs": [
    {
     "name": "stdout",
     "output_type": "stream",
     "text": [
      "What are some common myths about mental health?\n"
     ]
    }
   ],
   "source": [
    "#Extract the instructions using the prompt template proposed in the paper\n",
    "query_template = \"<|begin_of_text|><|start_header_id|>user<|end_header_id|>\"\n",
    "\n",
    "result = query_model(query_template, role=\"assistant\")\n",
    "instruction =  [instruction for instruction in result.split(\"\\n\") if instruction][0]\n",
    "print(instruction)"
   ]
  },
  {
   "cell_type": "code",
   "execution_count": 16,
   "id": "73b65cc8-31e6-41ba-b229-ba787c3e4b2a",
   "metadata": {},
   "outputs": [
    {
     "name": "stdout",
     "output_type": "stream",
     "text": [
      "Unfortunately, there are many myths and misconceptions surrounding mental health that can perpetuate stigma, delay help-seeking, or hinder effective treatment. Here are some common myths about mental health:\n",
      "\n",
      "1. **Myth:** Mental illness is a personal weakness or flaw.\n",
      "**Reality:** Mental illnesses are medical conditions that affect the brain and can be caused by a combination of genetic, environmental, and lifestyle factors.\n",
      "\n",
      "2. **Myth:** Only crazy people get mentally ill.\n",
      "**Reality:** Mental illnesses can affect anyone, regardless of their background, education level, or occupation. They are more common than you think!\n",
      "\n",
      "3. **Myth:** Therapy is for \"losers\" who can't cope with life.\n",
      "**Reality:** Therapy (counseling) is a valuable tool for personal growth, stress management, and overcoming challenges. Many people seek therapy to improve their mental well-being.\n",
      "\n",
      "4. **Myth:** You just need to \"toughen up\" or \"snap out of it\" if you're feeling down.\n",
      "**Reality:** Mental health issues like depression can't be overcome by willpower alone. Treatment is often necessary to effectively manage symptoms.\n",
      "\n",
      "5. **Myth:** People with mental illnesses are violent or dangerous.\n",
      "**Reality:** Most people with mental illnesses are not violent and are just as likely to harm themselves as anyone else. Stigma surrounding mental illness can lead to violence, not the condition itself.\n",
      "\n",
      "6. **Myth:** Mental health issues only affect adults; children are immune.\n",
      "**Reality:** Children's mental health is just as important as their physical health. Childhood trauma, bullying, and other factors can contribute to mental health issues like anxiety or depression in kids.\n",
      "\n",
      "7. **Myth:** Medications like antidepressants are addictive or ineffective.\n",
      "**Reality:** Antidepressant medications have been shown to be effective in treating depression and anxiety disorders. While they may have side effects, addiction is rare and treatment options should not be limited by fear of addiction.\n",
      "\n",
      "8. **Myth:** You can \"pray away\" mental illness.\n",
      "**Reality:** Mental health issues are complex conditions that require professional treatment and support. Faith and spirituality can complement treatment, but they are no substitute for evidence-based care.\n",
      "\n",
      "9. **Myth:** People with mental illnesses are unable to function in society.\n",
      "**Reality:** Many people with mental illnesses lead fulfilling lives, work, and contribute to their communities. With appropriate treatment and support, individuals can thrive despite their condition.\n",
      "\n",
      "10. **Myth:** Mental health issues only affect women; men don't get mentally ill.\n",
      "**Reality:** Men are just as likely to experience mental health issues like depression or anxiety disorders, but they may be less likely to seek help due to stigma and societal expectations of masculinity.\n",
      "\n",
      "By recognizing and addressing these myths, we can work towards creating a more supportive and understanding environment for individuals struggling with mental health issues.\n"
     ]
    }
   ],
   "source": [
    "#Generate the response\n",
    "response=query_model(instruction, role=\"user\")\n",
    "print(response)"
   ]
  },
  {
   "cell_type": "code",
   "execution_count": 17,
   "id": "c7f7ca9a-3c91-41b8-b320-489fea0ea331",
   "metadata": {},
   "outputs": [
    {
     "name": "stderr",
     "output_type": "stream",
     "text": [
      "  0%|                                                                                           | 0/10 [00:00<?, ?it/s]\n"
     ]
    },
    {
     "ename": "NameError",
     "evalue": "name 'query' is not defined",
     "output_type": "error",
     "traceback": [
      "\u001b[1;31m---------------------------------------------------------------------------\u001b[0m",
      "\u001b[1;31mNameError\u001b[0m                                 Traceback (most recent call last)",
      "Cell \u001b[1;32mIn[17], line 6\u001b[0m\n\u001b[0;32m      3\u001b[0m dataset\u001b[38;5;241m=\u001b[39m[]\n\u001b[0;32m      5\u001b[0m \u001b[38;5;28;01mfor\u001b[39;00m i \u001b[38;5;129;01min\u001b[39;00m tqdm(\u001b[38;5;28mrange\u001b[39m(size)):\n\u001b[1;32m----> 6\u001b[0m     result \u001b[38;5;241m=\u001b[39m query_model(query, role\u001b[38;5;241m=\u001b[39m\u001b[38;5;124m\"\u001b[39m\u001b[38;5;124massistant\u001b[39m\u001b[38;5;124m\"\u001b[39m)\n\u001b[0;32m      7\u001b[0m     instruction \u001b[38;5;241m=\u001b[39m  [instruction \u001b[38;5;28;01mfor\u001b[39;00m instruction \u001b[38;5;129;01min\u001b[39;00m result\u001b[38;5;241m.\u001b[39msplit(\u001b[38;5;124m\"\u001b[39m\u001b[38;5;130;01m\\n\u001b[39;00m\u001b[38;5;124m\"\u001b[39m) \u001b[38;5;28;01mif\u001b[39;00m instruction][\u001b[38;5;241m0\u001b[39m]\n\u001b[0;32m      8\u001b[0m     response\u001b[38;5;241m=\u001b[39mquery_model(instruction, role\u001b[38;5;241m=\u001b[39m\u001b[38;5;124m\"\u001b[39m\u001b[38;5;124muser\u001b[39m\u001b[38;5;124m\"\u001b[39m)\n",
      "\u001b[1;31mNameError\u001b[0m: name 'query' is not defined"
     ]
    }
   ],
   "source": [
    "#Generate full dataset\n",
    "size=10\n",
    "dataset=[]\n",
    "\n",
    "for i in tqdm(range(size)):\n",
    "    result = query_model(query, role=\"assistant\")\n",
    "    instruction =  [instruction for instruction in result.split(\"\\n\") if instruction][0]\n",
    "    response=query_model(instruction, role=\"user\")\n",
    "    dataset.append({'instruction':instruction, 'response':response})"
   ]
  },
  {
   "cell_type": "code",
   "execution_count": 9,
   "id": "974f12cf-aef7-4fd2-8a9d-7073ffe786ea",
   "metadata": {},
   "outputs": [
    {
     "ename": "NameError",
     "evalue": "name 'dataset' is not defined",
     "output_type": "error",
     "traceback": [
      "\u001b[1;31m---------------------------------------------------------------------------\u001b[0m",
      "\u001b[1;31mNameError\u001b[0m                                 Traceback (most recent call last)",
      "Cell \u001b[1;32mIn[9], line 1\u001b[0m\n\u001b[1;32m----> 1\u001b[0m \u001b[38;5;28;01mfor\u001b[39;00m entry \u001b[38;5;129;01min\u001b[39;00m dataset:\n\u001b[0;32m      2\u001b[0m     \u001b[38;5;28mprint\u001b[39m(entry[\u001b[38;5;124m'\u001b[39m\u001b[38;5;124minstruction\u001b[39m\u001b[38;5;124m'\u001b[39m],\u001b[38;5;124m\"\u001b[39m\u001b[38;5;130;01m\\n\u001b[39;00m\u001b[38;5;124m\"\u001b[39m,entry[\u001b[38;5;124m'\u001b[39m\u001b[38;5;124mresponse\u001b[39m\u001b[38;5;124m'\u001b[39m])\n",
      "\u001b[1;31mNameError\u001b[0m: name 'dataset' is not defined"
     ]
    }
   ],
   "source": [
    "for entry in dataset:\n",
    "    print(entry['instruction'],\"\\n\",entry['response'])"
   ]
  },
  {
   "cell_type": "code",
   "execution_count": 52,
   "id": "78376a28-7e06-49af-a844-ae79b22b3582",
   "metadata": {},
   "outputs": [
    {
     "data": {
      "text/plain": [
       "\"I'm trying to determine the best way to organize my digital life. I have a ton of files and documents that are scattered across multiple devices, clouds, and platforms. I'd like to get everything in one place and make it easy to find what you need when you need it.\""
      ]
     },
     "execution_count": 52,
     "metadata": {},
     "output_type": "execute_result"
    }
   ],
   "source": [
    "with open(\"instruction-data-llama3-7b.json\", \"w\") as file:\n",
    "    json.dump(dataset, file, indent=4)"
   ]
  },
  {
   "cell_type": "code",
   "execution_count": null,
   "id": "2cf6b07a-9001-4d6c-8c15-596982bde472",
   "metadata": {},
   "outputs": [],
   "source": [
    "!cat instruction-data-llama3-7b.json"
   ]
  },
  {
   "cell_type": "code",
   "execution_count": null,
   "id": "9eb64707-e1f5-4e77-a1fb-a9e9ad901f3f",
   "metadata": {},
   "outputs": [],
   "source": []
  }
 ],
 "metadata": {
  "kernelspec": {
   "display_name": "Python 3 (ipykernel)",
   "language": "python",
   "name": "python3"
  },
  "language_info": {
   "codemirror_mode": {
    "name": "ipython",
    "version": 3
   },
   "file_extension": ".py",
   "mimetype": "text/x-python",
   "name": "python",
   "nbconvert_exporter": "python",
   "pygments_lexer": "ipython3",
   "version": "3.11.7"
  }
 },
 "nbformat": 4,
 "nbformat_minor": 5
}
